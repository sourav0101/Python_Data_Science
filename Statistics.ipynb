{
 "cells": [
  {
   "cell_type": "code",
   "execution_count": 63,
   "id": "929709b9",
   "metadata": {
    "scrolled": true
   },
   "outputs": [
    {
     "name": "stdout",
     "output_type": "stream",
     "text": [
      "data:[61  1 44 51 28 42 22]\n",
      "sorted:[ 1 22 28 42 44 51 61]\n",
      "mean:35.57\n",
      "median:42.0\n",
      "mode:61\n",
      "standard deviation:18.65\n",
      "Variance:347.67\n"
     ]
    }
   ],
   "source": [
    "data = np.random.randint(66,size = 7)\n",
    "data_sorted=np.sort(data)\n",
    "data_mean = np.mean(data).round(2)\n",
    "data_median = np.median(data)\n",
    "data_Mode = statistics.mode(data)\n",
    "data_Standard_Deviation = np.std(data).round(2)\n",
    "data_Variance = np.var(data).round(2)\n",
    "\n",
    "\n",
    "print(f\"data:{data}\");\n",
    "print(f\"sorted:{data_sorted}\");\n",
    "print(f\"mean:{data_mean}\");\n",
    "print(f\"median:{data_median}\");\n",
    "print(f\"mode:{data_Mode}\");\n",
    "print(f\"standard deviation:{data_Standard_Deviation}\");\n",
    "print(f\"Variance:{data_Variance}\");"
   ]
  },
  {
   "cell_type": "code",
   "execution_count": 69,
   "id": "5dae9914",
   "metadata": {},
   "outputs": [
    {
     "name": "stdout",
     "output_type": "stream",
     "text": [
      "percentile:11.0\n"
     ]
    }
   ],
   "source": [
    "data = np.random.randint(66,size = 7)\n",
    "ans_34 = np.percentile(data,34).round(4)\n",
    "print(f\"percentile:{ans_34}\")"
   ]
  },
  {
   "cell_type": "code",
   "execution_count": null,
   "id": "db9bdf80",
   "metadata": {},
   "outputs": [],
   "source": []
  },
  {
   "cell_type": "code",
   "execution_count": null,
   "id": "22a4c269",
   "metadata": {},
   "outputs": [],
   "source": []
  },
  {
   "cell_type": "code",
   "execution_count": null,
   "id": "78874259",
   "metadata": {},
   "outputs": [],
   "source": []
  }
 ],
 "metadata": {
  "kernelspec": {
   "display_name": "Python 3 (ipykernel)",
   "language": "python",
   "name": "python3"
  },
  "language_info": {
   "codemirror_mode": {
    "name": "ipython",
    "version": 3
   },
   "file_extension": ".py",
   "mimetype": "text/x-python",
   "name": "python",
   "nbconvert_exporter": "python",
   "pygments_lexer": "ipython3",
   "version": "3.10.5"
  }
 },
 "nbformat": 4,
 "nbformat_minor": 5
}
